{
  "cells": [
    {
      "cell_type": "markdown",
      "metadata": {
        "id": "view-in-github",
        "colab_type": "text"
      },
      "source": [
        "<a href=\"https://colab.research.google.com/github/rokeya160210/Assignment1/blob/main/Class_03_Assignment_(Basic_Python).ipynb\" target=\"_parent\"><img src=\"https://colab.research.google.com/assets/colab-badge.svg\" alt=\"Open In Colab\"/></a>"
      ]
    },
    {
      "cell_type": "markdown",
      "id": "9818ffc8",
      "metadata": {
        "id": "9818ffc8"
      },
      "source": [
        "# Python Practice Problems"
      ]
    },
    {
      "cell_type": "markdown",
      "id": "92c96f2f",
      "metadata": {
        "id": "92c96f2f"
      },
      "source": [
        "### 1. Find the Largest of Two Numbers\n",
        "**Task:** Given two numbers, find the larger one.  \n",
        "**Demo Input:**  5 and 6 <br>\n",
        "**Output:** 6\n"
      ]
    },
    {
      "cell_type": "code",
      "execution_count": null,
      "id": "15c848cf",
      "metadata": {
        "id": "15c848cf",
        "colab": {
          "base_uri": "https://localhost:8080/"
        },
        "outputId": "31edbbf0-b67e-411a-f50a-b18b2ad262b1"
      },
      "outputs": [
        {
          "output_type": "stream",
          "name": "stdout",
          "text": [
            "Enter first number: 5\n",
            "Enter second number: 6\n",
            "6\n"
          ]
        }
      ],
      "source": [
        "firstNumber = input(\"Enter first number: \")\n",
        "secondNumber = input(\"Enter second number: \")\n",
        "if firstNumber > secondNumber:\n",
        "  print(firstNumber)\n",
        "else:\n",
        "  print(secondNumber)"
      ]
    },
    {
      "cell_type": "markdown",
      "id": "c8c1c683",
      "metadata": {
        "id": "c8c1c683"
      },
      "source": [
        "### 2. Print Numbers from 1 to N\n",
        "**Task**: Given a number `n`, print all numbers from 1 to `n`. <br>\n",
        "**Demo Input**: `5`  <br>\n",
        "**Demo Output**:  1 2 3 4 5\n"
      ]
    },
    {
      "cell_type": "code",
      "execution_count": null,
      "id": "4f9f4529",
      "metadata": {
        "id": "4f9f4529",
        "colab": {
          "base_uri": "https://localhost:8080/"
        },
        "outputId": "14aa6750-10c9-4727-b1e6-7443ab879e5f"
      },
      "outputs": [
        {
          "output_type": "stream",
          "name": "stdout",
          "text": [
            "Enter a number: 5\n",
            "1 2 3 4 5 "
          ]
        }
      ],
      "source": [
        "Number = input(\"Enter a number: \")\n",
        "for i in range(1, int(Number)+1):\n",
        "  print(i, end=\" \")"
      ]
    },
    {
      "cell_type": "markdown",
      "id": "899df468",
      "metadata": {
        "id": "899df468"
      },
      "source": [
        "### 3. Check if a Number is Positive or Negative\n",
        "**Task**: Determine if the input number is positive, negative, or zero.  \n",
        "**Demo Input**: `-3`  \n",
        "**Demo Output**: `The number is Negative`"
      ]
    },
    {
      "cell_type": "code",
      "execution_count": null,
      "id": "56ae285e",
      "metadata": {
        "id": "56ae285e",
        "colab": {
          "base_uri": "https://localhost:8080/"
        },
        "outputId": "e581d215-83a6-4753-b4cf-9c91d472c6c2"
      },
      "outputs": [
        {
          "output_type": "stream",
          "name": "stdout",
          "text": [
            "Enter a number: -3\n",
            "The number is Negative\n"
          ]
        }
      ],
      "source": [
        "Number = input(\"Enter a number: \")\n",
        "if int(Number) > 0:\n",
        "  print(\"The number is Positive\")\n",
        "elif int(Number) < 0:\n",
        "  print(\"The number is Negative\")\n",
        "else:\n",
        "  print(\"The number is Zero\")"
      ]
    },
    {
      "cell_type": "markdown",
      "id": "9d865d12",
      "metadata": {
        "id": "9d865d12"
      },
      "source": [
        "### 4. Calculate the Sum of Digits\n",
        "**Task**: Given a number, find the sum of its digits.  \n",
        "**Demo Input**: `123`  \n",
        "**Demo Output**: `6`  \n",
        "(Explanation: `1+2+3=6`)"
      ]
    },
    {
      "cell_type": "code",
      "execution_count": null,
      "id": "c28b2c6c",
      "metadata": {
        "id": "c28b2c6c",
        "colab": {
          "base_uri": "https://localhost:8080/"
        },
        "outputId": "46948e4d-061d-4cbe-c882-ac030df61fe9"
      },
      "outputs": [
        {
          "output_type": "stream",
          "name": "stdout",
          "text": [
            "Enter a number: 123\n",
            "6\n"
          ]
        }
      ],
      "source": [
        "Number = input(\"Enter a number: \")\n",
        "sum = 0\n",
        "for i in Number:\n",
        "  sum += int(i)\n",
        "print(sum)"
      ]
    },
    {
      "cell_type": "markdown",
      "id": "a970046f",
      "metadata": {
        "id": "a970046f"
      },
      "source": [
        "### 5. Find Factorial of a Number\n",
        "**Task**: Calculate the factorial of a given number.  \n",
        "**Demo Input**: `4`  \n",
        "**Demo Output**: `24`  \n",
        "(Explanation: `4! = 4*3*2*1 = 24`)"
      ]
    },
    {
      "cell_type": "code",
      "execution_count": null,
      "id": "fd5966d2",
      "metadata": {
        "id": "fd5966d2",
        "colab": {
          "base_uri": "https://localhost:8080/"
        },
        "outputId": "6e4ae6df-aa0f-4530-e4ba-b44cf950edde"
      },
      "outputs": [
        {
          "output_type": "stream",
          "name": "stdout",
          "text": [
            "Enter a number: 4\n",
            "24\n"
          ]
        }
      ],
      "source": [
        "Number = input(\"Enter a number: \")\n",
        "factorial = 1\n",
        "for i in range(1, int(Number)+1):\n",
        "  factorial *= i\n",
        "print(factorial)"
      ]
    },
    {
      "cell_type": "markdown",
      "id": "c8798099",
      "metadata": {
        "id": "c8798099"
      },
      "source": [
        "### 6. Count Occurrences of a Digit\n",
        "**Task**: Count how many times a specific digit appears max in a number.  \n",
        "**Demo Input**:  1233321 <br>\n",
        "**Demo Output**: `3`  <br>\n",
        "(Explanation: `3` appears 3 times in `1233321`)"
      ]
    },
    {
      "cell_type": "code",
      "execution_count": null,
      "id": "5772f0e6",
      "metadata": {
        "id": "5772f0e6",
        "colab": {
          "base_uri": "https://localhost:8080/"
        },
        "outputId": "259fc180-6935-4c1d-ce8f-89fafc76fd42"
      },
      "outputs": [
        {
          "output_type": "stream",
          "name": "stdout",
          "text": [
            "Enter a number: 1233321\n",
            "Enter a digit: 3\n",
            "3\n"
          ]
        }
      ],
      "source": [
        "Number = input(\"Enter a number: \")\n",
        "digit = input(\"Enter a digit: \")\n",
        "count = 0\n",
        "for i in Number:\n",
        "  if i == digit:\n",
        "    count += 1\n",
        "print(count)"
      ]
    },
    {
      "cell_type": "markdown",
      "id": "b7f985bc",
      "metadata": {
        "id": "b7f985bc"
      },
      "source": [
        "### 7. Find the GCD of Two Numbers\n",
        "**Task**: Find the greatest common divisor (GCD) of two numbers.  \n",
        "**Demo Input**: 8 and 12 <br>\n",
        "**Demo Output**: `4`"
      ]
    },
    {
      "cell_type": "code",
      "source": [
        "Number1 = input(\"Enter first number: \")\n",
        "Number2 = input(\"Enter second number: \")\n",
        "def gcd(a, b):\n",
        "  while b != 0:\n",
        "    a, b = b, a % b\n",
        "  return a\n",
        "print(gcd(int(Number1), int(Number2)))"
      ],
      "metadata": {
        "colab": {
          "base_uri": "https://localhost:8080/"
        },
        "id": "4djenzFjqzLM",
        "outputId": "c23cb2f8-c4a3-4f35-989e-b093ecd7bf3e"
      },
      "id": "4djenzFjqzLM",
      "execution_count": null,
      "outputs": [
        {
          "output_type": "stream",
          "name": "stdout",
          "text": [
            "Enter first number: 12\n",
            "Enter second number: 8\n",
            "4\n"
          ]
        }
      ]
    },
    {
      "cell_type": "markdown",
      "id": "14c6a2fd",
      "metadata": {
        "id": "14c6a2fd"
      },
      "source": [
        "### 8. Reverse a String\n",
        "**Task**: Reverse the given string.  \n",
        "**Demo Input**: `\"aiquest\"`  \n",
        "**Demo Output**: `\"tseuqia\"`"
      ]
    },
    {
      "cell_type": "code",
      "execution_count": null,
      "id": "a467887d",
      "metadata": {
        "id": "a467887d",
        "colab": {
          "base_uri": "https://localhost:8080/"
        },
        "outputId": "9c6270f2-ef04-4463-865f-24d0f3815a15"
      },
      "outputs": [
        {
          "output_type": "stream",
          "name": "stdout",
          "text": [
            "Enter a string: ASDF\n",
            "FDSA\n"
          ]
        }
      ],
      "source": [
        "S1 = input(\"Enter a string: \")\n",
        "print(S1[::-1])"
      ]
    },
    {
      "cell_type": "code",
      "execution_count": null,
      "id": "bd22e158",
      "metadata": {
        "id": "bd22e158"
      },
      "outputs": [],
      "source": []
    },
    {
      "cell_type": "markdown",
      "id": "88317dfd",
      "metadata": {
        "id": "88317dfd"
      },
      "source": [
        "### 9. Check Armstrong Number\n",
        "**Task**: Check if a number is an Armstrong number (the sum of its digits raised to the power of the number of digits equals the number).  \n",
        "**Demo Input**: `153`  \n",
        "**Demo Output**: `153 is an Armstrong Number`  \n",
        "(Explanation: \\(1^3 + 5^3 + 3^3 = 153\\))"
      ]
    },
    {
      "cell_type": "code",
      "execution_count": null,
      "id": "2602ff94",
      "metadata": {
        "id": "2602ff94",
        "colab": {
          "base_uri": "https://localhost:8080/"
        },
        "outputId": "ef37be80-74c7-41ae-88b5-2989349c62c7"
      },
      "outputs": [
        {
          "output_type": "stream",
          "name": "stdout",
          "text": [
            "Enter a number: 153\n",
            "153 is an Armstrong Number\n"
          ]
        }
      ],
      "source": [
        "Number = input(\"Enter a number: \")\n",
        "sum = 0\n",
        "for i in Number:\n",
        "  sum += int(i)**len(Number)\n",
        "if sum == int(Number):\n",
        "  print(Number, \"is an Armstrong Number\")"
      ]
    },
    {
      "cell_type": "markdown",
      "id": "0905a3cc",
      "metadata": {
        "id": "0905a3cc"
      },
      "source": [
        "### 10. Generate a Pattern\n",
        "**Task**: Print a pyramid pattern with `n` rows.  \n",
        "**Demo input:** 4 <br>\n",
        "**Output:** You will see the pyramid pattern with 4 rows"
      ]
    },
    {
      "cell_type": "code",
      "execution_count": null,
      "id": "83d8b483",
      "metadata": {
        "id": "83d8b483",
        "colab": {
          "base_uri": "https://localhost:8080/"
        },
        "outputId": "3f64d225-fcfd-4cfa-bef0-a54ad2df38d3"
      },
      "outputs": [
        {
          "output_type": "stream",
          "name": "stdout",
          "text": [
            "Enter a number: 4\n",
            "   \n",
            "  1   \n",
            "  1   2  \n",
            "  1   2   3 \n",
            "  1   2   3   4 "
          ]
        }
      ],
      "source": [
        "Number = input(\"Enter a number: \")\n",
        "for i in range(1, int(Number)+1):\n",
        "  print(\" \"*(int(Number)-i), end=\"\\n\")\n",
        "  for j in range(1, i+1):\n",
        "    print(j, end=\" \")"
      ]
    },
    {
      "cell_type": "markdown",
      "id": "ec723917",
      "metadata": {
        "id": "ec723917"
      },
      "source": [
        "# Good Luck!"
      ]
    }
  ],
  "metadata": {
    "kernelspec": {
      "display_name": "Python 3 (ipykernel)",
      "language": "python",
      "name": "python3"
    },
    "language_info": {
      "codemirror_mode": {
        "name": "ipython",
        "version": 3
      },
      "file_extension": ".py",
      "mimetype": "text/x-python",
      "name": "python",
      "nbconvert_exporter": "python",
      "pygments_lexer": "ipython3",
      "version": "3.9.13"
    },
    "colab": {
      "provenance": [],
      "include_colab_link": true
    }
  },
  "nbformat": 4,
  "nbformat_minor": 5
}